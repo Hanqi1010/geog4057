{
 "cells": [
  {
   "cell_type": "code",
   "execution_count": 1,
   "metadata": {},
   "outputs": [],
   "source": [
    "import arcpy"
   ]
  },
  {
   "cell_type": "code",
   "execution_count": 3,
   "metadata": {},
   "outputs": [
    {
     "name": "stdout",
     "output_type": "stream",
     "text": [
      "C:\\Users\\leiwang\\Documents\\ArcGIS\\Projects\\GEOG4057\\GEOG4057.gdb\n"
     ]
    }
   ],
   "source": [
    "#print the current workspace\n",
    "#Question: what do you see and why is that workspace name printed by this command?\n",
    "print(arcpy.env.workspace)"
   ]
  }
 ],
 "metadata": {
  "kernelspec": {
   "display_name": "ArcGISPro",
   "language": "Python",
   "name": "python3"
  },
  "language_info": {
   "file_extension": ".py",
   "name": "python",
   "version": "3"
  }
 },
 "nbformat": 4,
 "nbformat_minor": 2
}

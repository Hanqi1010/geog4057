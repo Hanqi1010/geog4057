{
 "cells": [
  {
   "cell_type": "code",
   "execution_count": null,
   "metadata": {},
   "outputs": [],
   "source": [
    "import arcpy"
   ]
  },
  {
   "cell_type": "code",
   "execution_count": null,
   "metadata": {},
   "outputs": [],
   "source": [
    "#print the current workspace\n",
    "#Question: what do you see and why is that workspace name printed by this command? How can you set different workspace? \n",
    "print(arcpy.env.workspace)"
   ]
  },
  {
   "cell_type": "code",
   "execution_count": null,
   "metadata": {},
   "outputs": [],
   "source": [
    "# try to print all the modules and classes in ArcPy\n",
    "#print(dir(arcpy))\n",
    "# print the classes and functions in the spatial analysis module (sa) in arcpy \n",
    "#print(dir(arcpy.sa))\n",
    "#question: how to obtain the total number of classes and functions in sa?\n"
   ]
  },
  {
   "cell_type": "code",
   "execution_count": null,
   "metadata": {
    "scrolled": true
   },
   "outputs": [],
   "source": [
    "import arcpy\n",
    "#assume there are two shapefiles stream.shp and study.shp in the workspace c:/data\n",
    "#The code below will call the Clip function in the analysis module to do the clip function\n",
    "arcpy.env.workspace = \"C:/Data\"\n",
    "arcpy.Clip_analysis(\"streams.shp\", \"study.shp\", \"result.shp\")"
   ]
  },
  {
   "cell_type": "code",
   "execution_count": null,
   "metadata": {},
   "outputs": [],
   "source": [
    "arcpy.analysis.Clip(\"streams.shp\", \"study.shp\", \"result.shp\")"
   ]
  },
  {
   "cell_type": "code",
   "execution_count": null,
   "metadata": {
    "scrolled": false
   },
   "outputs": [],
   "source": [
    "#Only use non-curly quotation marks in python. The following line does not work. Why? \n",
    "print(“Hello Wolrd”)"
   ]
  },
  {
   "cell_type": "markdown",
   "metadata": {},
   "source": [
    "## Skip optional parameters"
   ]
  },
  {
   "cell_type": "code",
   "execution_count": null,
   "metadata": {},
   "outputs": [],
   "source": [
    "arcpy.Buffer_analysis(\"roads\", \"buffer\", \"100 METERS\", \"\", \"\", \n",
    "                      \"LIST\", \"CODE\")\n",
    "arcpy.Buffer_analysis(\"roads\", \"buffer\", \"100 METERS\", \"#\", \"#\", \n",
    "                      \"LIST\", \"CODE\")\n",
    "arcpy.Buffer_analysis(\"roads\", \"buffer\", \"100 METERS\", None, None, \n",
    "                      \"LIST\", \"CODE\")\n",
    "arcpy.Buffer_analysis(\"roads\", \"buffer\", \"100 METERS\", \n",
    "                      dissolve_option=\"LIST\", dissolve_field=\"CODE\")"
   ]
  },
  {
   "cell_type": "markdown",
   "metadata": {},
   "source": [
    "## Python function arguments"
   ]
  },
  {
   "cell_type": "code",
   "execution_count": 31,
   "metadata": {},
   "outputs": [
    {
     "name": "stdout",
     "output_type": "stream",
     "text": [
      "3.0\n",
      "1.5\n"
     ]
    }
   ],
   "source": [
    "# default vs. non-default parameters\n",
    "def divide_two(a, b = 1):\n",
    "    return a / b\n",
    "print(divide_two(3))\n",
    "print(divide_two(3,2))"
   ]
  },
  {
   "cell_type": "code",
   "execution_count": 35,
   "metadata": {},
   "outputs": [
    {
     "name": "stdout",
     "output_type": "stream",
     "text": [
      "2.5\n",
      "2.5\n"
     ]
    }
   ],
   "source": [
    "#positional argument and keyword arguments\n",
    "print(divide_two(5,2))\n",
    "print(divide_two(b = 2, a = 5))"
   ]
  },
  {
   "cell_type": "markdown",
   "metadata": {},
   "source": [
    "## Value None"
   ]
  },
  {
   "cell_type": "code",
   "execution_count": null,
   "metadata": {},
   "outputs": [],
   "source": [
    "# it is None, not none or NONE\n",
    "# Also, do not confuse it with the string \"NONE\"\n",
    "print(type(None))\n",
    "print(\"NONE\")\n",
    "print(None)"
   ]
  },
  {
   "cell_type": "markdown",
   "metadata": {},
   "source": [
    "## Use getParameterAsText()"
   ]
  },
  {
   "cell_type": "code",
   "execution_count": null,
   "metadata": {
    "scrolled": true
   },
   "outputs": [],
   "source": [
    "import os\n",
    "import arcpy\n",
    "\n",
    "# Set the input workspace, get the feature class name to copy\n",
    "#  and the output location.\n",
    "arcpy.env.workspace = arcpy.GetParameterAsText(0)\n",
    "in_featureclass = arcpy.GetParameterAsText(1)\n",
    "out_workspace = arcpy.GetParameterAsText(2)\n",
    "\n",
    "out_featureclass = os.path.join(out_workspace,\n",
    "                                os.path.basename(in_featureclass))\n",
    "\n",
    "# Copy feature class to output location\n",
    "arcpy.CopyFeatures_management(in_featureclass, out_featureclass)"
   ]
  },
  {
   "cell_type": "markdown",
   "metadata": {},
   "source": [
    "## import toolboxes"
   ]
  },
  {
   "cell_type": "code",
   "execution_count": null,
   "metadata": {},
   "outputs": [],
   "source": [
    "import arcpy\n",
    "arcpy.ImportToolbox(\"GEOG4057.atbx\")\n",
    "print(dir(arcpy.GEOG4057atbx))\n",
    "arcpy.IteratorFor_GEOG4057atbx()"
   ]
  },
  {
   "cell_type": "code",
   "execution_count": 29,
   "metadata": {},
   "outputs": [
    {
     "name": "stdout",
     "output_type": "stream",
     "text": [
      "ImportToolbox(input_file, {module_name})\n",
      "\n",
      "       Imports the specified toolbox into ArcPy, allowing for access to the\n",
      "       toolbox's associated tools.\n",
      "\n",
      "         input_file(String):\n",
      "       The geoprocessing toolbox added to the ArcPy site package.\n",
      "\n",
      "         module_name{String}:\n",
      "       If the toolbox does not have an alias, the module_name is required.\n",
      "\n",
      "       When a tool is accessed through the ArcPy site package, the toolbox alias\n",
      "       where the tool is contained is a required suffix (\n",
      "       arcpy.<toolname>_<alias> ).  Since ArcPy depends on toolbox aliases to\n",
      "       access and execute the correct tool, aliases are extremely important when\n",
      "       importing custom toolboxes.  A good practice is to always define a custom\n",
      "       toolbox's alias;  however, if the toolbox alias is not defined, a\n",
      "       temporary alias can be set as the second parameter.\n",
      "['IterateFeatureClass', 'IterateFeatureSelection', 'IteratorFor', 'Model', '__alias__', '__all__', '__builtins__', '__doc__', '__loader__', '__name__', '__package__', '__pathname__', '__spec__']\n"
     ]
    },
    {
     "data": {
      "text/html": [
       "<div class='gpresult'><h2>Messages</h2><div id='messages' data-messages='[\"Start Time: Monday, October 2, 2023 7:04:46 PM\",\"Executing (For): IterateCount 500 1500 500\",\"Start Time: Monday, October 2, 2023 7:04:46 PM\",\"Succeeded at Monday, October 2, 2023 7:04:46 PM (Elapsed Time: 0.00 seconds)\",\"Executing (Buffer): Buffer C:\\\\Users\\\\leiwang\\\\Documents\\\\ArcGIS\\\\Projects\\\\GEOG4057\\\\data\\\\assignment4\\\\ToolData.gdb\\\\SanDiego\\\\PlanA_Roads C:\\\\Users\\\\leiwang\\\\Documents\\\\ArcGIS\\\\Projects\\\\GEOG4057\\\\GEOG4057.gdb\\\\BufferedFC_500 500 Full Round \\\"No Dissolve\\\" # Planar\",\"Start Time: Monday, October 2, 2023 7:04:47 PM\",\"Succeeded at Monday, October 2, 2023 7:04:47 PM (Elapsed Time: 0.97 seconds)\",\"Executing (Clip): Clip C:\\\\Users\\\\leiwang\\\\Documents\\\\ArcGIS\\\\Projects\\\\GEOG4057\\\\data\\\\assignment4\\\\ToolData.gdb\\\\SanDiego\\\\vegtype C:\\\\Users\\\\leiwang\\\\Documents\\\\ArcGIS\\\\Projects\\\\GEOG4057\\\\GEOG4057.gdb\\\\BufferedFC_500 C:\\\\Users\\\\leiwang\\\\Documents\\\\ArcGIS\\\\Projects\\\\GEOG4057\\\\GEOG4057.gdb\\\\ClippedFC_500 #\",\"Start Time: Monday, October 2, 2023 7:04:48 PM\",\"Reading Features...\",\"Cracking Features...\",\"Assembling Features...\",\"Succeeded at Monday, October 2, 2023 7:04:48 PM (Elapsed Time: 0.87 seconds)\",\"Executing (Summary Statistics): Statistics C:\\\\Users\\\\leiwang\\\\Documents\\\\ArcGIS\\\\Projects\\\\GEOG4057\\\\GEOG4057.gdb\\\\ClippedFC_500 C:\\\\Users\\\\leiwang\\\\Documents\\\\ArcGIS\\\\Projects\\\\GEOG4057\\\\GEOG4057.gdb\\\\AffectedVegetation500 \\\"Shape_Area SUM\\\" VEG_TYPE #\",\"Start Time: Monday, October 2, 2023 7:04:49 PM\",\"Succeeded at Monday, October 2, 2023 7:04:49 PM (Elapsed Time: 0.47 seconds)\",\"Executing (Collect Values): CollectValues C:\\\\Users\\\\leiwang\\\\Documents\\\\ArcGIS\\\\Projects\\\\GEOG4057\\\\GEOG4057.gdb\\\\AffectedVegetation500;C:\\\\Users\\\\leiwang\\\\Documents\\\\ArcGIS\\\\Projects\\\\GEOG4057\\\\GEOG4057.gdb\\\\ClippedFC_500 #\",\"Start Time: Monday, October 2, 2023 7:04:49 PM\",\"Succeeded at Monday, October 2, 2023 7:04:49 PM (Elapsed Time: 0.04 seconds)\",\"Executing (For): IterateCount 500 1500 500\",\"Start Time: Monday, October 2, 2023 7:04:49 PM\",\"Succeeded at Monday, October 2, 2023 7:04:49 PM (Elapsed Time: 0.00 seconds)\",\"Executing (Buffer): Buffer C:\\\\Users\\\\leiwang\\\\Documents\\\\ArcGIS\\\\Projects\\\\GEOG4057\\\\data\\\\assignment4\\\\ToolData.gdb\\\\SanDiego\\\\PlanA_Roads C:\\\\Users\\\\leiwang\\\\Documents\\\\ArcGIS\\\\Projects\\\\GEOG4057\\\\GEOG4057.gdb\\\\BufferedFC_1000 1000 Full Round \\\"No Dissolve\\\" # Planar\",\"Start Time: Monday, October 2, 2023 7:04:49 PM\",\"Succeeded at Monday, October 2, 2023 7:04:50 PM (Elapsed Time: 0.65 seconds)\",\"Executing (Clip): Clip C:\\\\Users\\\\leiwang\\\\Documents\\\\ArcGIS\\\\Projects\\\\GEOG4057\\\\data\\\\assignment4\\\\ToolData.gdb\\\\SanDiego\\\\vegtype C:\\\\Users\\\\leiwang\\\\Documents\\\\ArcGIS\\\\Projects\\\\GEOG4057\\\\GEOG4057.gdb\\\\BufferedFC_1000 C:\\\\Users\\\\leiwang\\\\Documents\\\\ArcGIS\\\\Projects\\\\GEOG4057\\\\GEOG4057.gdb\\\\ClippedFC_1000 #\",\"Start Time: Monday, October 2, 2023 7:04:50 PM\",\"Reading Features...\",\"Cracking Features...\",\"Assembling Features...\",\"Succeeded at Monday, October 2, 2023 7:04:51 PM (Elapsed Time: 0.92 seconds)\",\"Executing (Summary Statistics): Statistics C:\\\\Users\\\\leiwang\\\\Documents\\\\ArcGIS\\\\Projects\\\\GEOG4057\\\\GEOG4057.gdb\\\\ClippedFC_1000 C:\\\\Users\\\\leiwang\\\\Documents\\\\ArcGIS\\\\Projects\\\\GEOG4057\\\\GEOG4057.gdb\\\\AffectedVegetation1000 \\\"Shape_Area SUM\\\" VEG_TYPE #\",\"Start Time: Monday, October 2, 2023 7:04:51 PM\",\"Succeeded at Monday, October 2, 2023 7:04:51 PM (Elapsed Time: 0.45 seconds)\",\"Executing (Collect Values): CollectValues C:\\\\Users\\\\leiwang\\\\Documents\\\\ArcGIS\\\\Projects\\\\GEOG4057\\\\GEOG4057.gdb\\\\AffectedVegetation1000;C:\\\\Users\\\\leiwang\\\\Documents\\\\ArcGIS\\\\Projects\\\\GEOG4057\\\\GEOG4057.gdb\\\\ClippedFC_1000 #\",\"Start Time: Monday, October 2, 2023 7:04:51 PM\",\"Succeeded at Monday, October 2, 2023 7:04:51 PM (Elapsed Time: 0.04 seconds)\",\"Executing (For): IterateCount 500 1500 500\",\"Start Time: Monday, October 2, 2023 7:04:51 PM\",\"Succeeded at Monday, October 2, 2023 7:04:51 PM (Elapsed Time: 0.00 seconds)\",\"Executing (Buffer): Buffer C:\\\\Users\\\\leiwang\\\\Documents\\\\ArcGIS\\\\Projects\\\\GEOG4057\\\\data\\\\assignment4\\\\ToolData.gdb\\\\SanDiego\\\\PlanA_Roads C:\\\\Users\\\\leiwang\\\\Documents\\\\ArcGIS\\\\Projects\\\\GEOG4057\\\\GEOG4057.gdb\\\\BufferedFC_1500 1500 Full Round \\\"No Dissolve\\\" # Planar\",\"Start Time: Monday, October 2, 2023 7:04:51 PM\",\"Succeeded at Monday, October 2, 2023 7:04:52 PM (Elapsed Time: 0.49 seconds)\",\"Executing (Clip): Clip C:\\\\Users\\\\leiwang\\\\Documents\\\\ArcGIS\\\\Projects\\\\GEOG4057\\\\data\\\\assignment4\\\\ToolData.gdb\\\\SanDiego\\\\vegtype C:\\\\Users\\\\leiwang\\\\Documents\\\\ArcGIS\\\\Projects\\\\GEOG4057\\\\GEOG4057.gdb\\\\BufferedFC_1500 C:\\\\Users\\\\leiwang\\\\Documents\\\\ArcGIS\\\\Projects\\\\GEOG4057\\\\GEOG4057.gdb\\\\ClippedFC_1500 #\",\"Start Time: Monday, October 2, 2023 7:04:52 PM\",\"Reading Features...\",\"Cracking Features...\",\"Assembling Features...\",\"Succeeded at Monday, October 2, 2023 7:04:53 PM (Elapsed Time: 0.85 seconds)\",\"Executing (Summary Statistics): Statistics C:\\\\Users\\\\leiwang\\\\Documents\\\\ArcGIS\\\\Projects\\\\GEOG4057\\\\GEOG4057.gdb\\\\ClippedFC_1500 C:\\\\Users\\\\leiwang\\\\Documents\\\\ArcGIS\\\\Projects\\\\GEOG4057\\\\GEOG4057.gdb\\\\AffectedVegetation1500 \\\"Shape_Area SUM\\\" VEG_TYPE #\",\"Start Time: Monday, October 2, 2023 7:04:53 PM\",\"Succeeded at Monday, October 2, 2023 7:04:53 PM (Elapsed Time: 0.48 seconds)\",\"Executing (Collect Values): CollectValues C:\\\\Users\\\\leiwang\\\\Documents\\\\ArcGIS\\\\Projects\\\\GEOG4057\\\\GEOG4057.gdb\\\\AffectedVegetation1500;C:\\\\Users\\\\leiwang\\\\Documents\\\\ArcGIS\\\\Projects\\\\GEOG4057\\\\GEOG4057.gdb\\\\ClippedFC_1500 #\",\"Start Time: Monday, October 2, 2023 7:04:54 PM\",\"Succeeded at Monday, October 2, 2023 7:04:54 PM (Elapsed Time: 0.04 seconds)\",\"Executing (For): IterateCount 500 1500 500\",\"Start Time: Monday, October 2, 2023 7:04:54 PM\",\"Succeeded at Monday, October 2, 2023 7:04:54 PM (Elapsed Time: 0.00 seconds)\",\"Succeeded at Monday, October 2, 2023 7:04:54 PM (Elapsed Time: 7.79 seconds)\"]' data-show='true'><div id = 'default' /></div></div>"
      ],
      "text/plain": [
       "<Result ''>"
      ]
     },
     "execution_count": 29,
     "metadata": {},
     "output_type": "execute_result"
    }
   ],
   "source": [
    "import arcpy\n",
    "print(arcpy.ImportToolbox.__doc__)\n",
    "arcpy.ImportToolbox(\"GEOG4057.atbx\",\"mytools\")\n",
    "print(dir(arcpy.mytools))\n",
    "arcpy.IteratorFor_mytools()"
   ]
  },
  {
   "cell_type": "markdown",
   "metadata": {},
   "source": [
    "## Non-tool functions"
   ]
  },
  {
   "cell_type": "code",
   "execution_count": 30,
   "metadata": {},
   "outputs": [
    {
     "name": "stdout",
     "output_type": "stream",
     "text": [
      "False\n"
     ]
    }
   ],
   "source": [
    "import arcpy\n",
    "print(arcpy.Exists(\"C:/Data.streams.shp\"))"
   ]
  },
  {
   "cell_type": "markdown",
   "metadata": {},
   "source": [
    "## Tool messasges"
   ]
  },
  {
   "cell_type": "code",
   "execution_count": 36,
   "metadata": {},
   "outputs": [
    {
     "ename": "ExecuteError",
     "evalue": "Failed to execute. Parameters are not valid.\nERROR 000732: Input Features or Dataset: Dataset streams.shp does not exist or is not supported\nERROR 000732: Clip Features: Dataset study.shp does not exist or is not supported\nFailed to execute (Clip).\n",
     "output_type": "error",
     "traceback": [
      "\u001b[0;31m---------------------------------------------------------------------------\u001b[0m\n\u001b[0;31mExecuteError\u001b[0m                              Traceback (most recent call last)",
      "In  \u001b[0;34m[36]\u001b[0m:\nLine \u001b[0;34m6\u001b[0m:     arcpy.Clip_analysis(infc, clipfc, outfc)\n",
      "File \u001b[0;34mC:\\Program Files\\ArcGIS\\Pro\\Resources\\ArcPy\\arcpy\\analysis.py\u001b[0m, in \u001b[0;32mClip\u001b[0m:\nLine \u001b[0;34m113\u001b[0m:   \u001b[34mraise\u001b[39;49;00m e\n",
      "File \u001b[0;34mC:\\Program Files\\ArcGIS\\Pro\\Resources\\ArcPy\\arcpy\\analysis.py\u001b[0m, in \u001b[0;32mClip\u001b[0m:\nLine \u001b[0;34m110\u001b[0m:   retval = convertArcObjectToPythonObject(gp.Clip_analysis(*gp_fixargs((in_features, clip_features, out_feature_class, cluster_tolerance), \u001b[34mTrue\u001b[39;49;00m)))\n",
      "File \u001b[0;34mC:\\Program Files\\ArcGIS\\Pro\\Resources\\ArcPy\\arcpy\\geoprocessing\\_base.py\u001b[0m, in \u001b[0;32m<lambda>\u001b[0m:\nLine \u001b[0;34m512\u001b[0m:   \u001b[34mreturn\u001b[39;49;00m \u001b[34mlambda\u001b[39;49;00m *args: val(*gp_fixargs(args, \u001b[34mTrue\u001b[39;49;00m))\n",
      "\u001b[0;31mExecuteError\u001b[0m: Failed to execute. Parameters are not valid.\nERROR 000732: Input Features or Dataset: Dataset streams.shp does not exist or is not supported\nERROR 000732: Clip Features: Dataset study.shp does not exist or is not supported\nFailed to execute (Clip).\n\n\u001b[0;31m---------------------------------------------------------------------------\u001b[0m"
     ]
    }
   ],
   "source": [
    "import arcpy\n",
    "arcpy.env.workspace = \"C:/Data\"\n",
    "infc = \"streams.shp\"\n",
    "clipfc = \"study.shp\"\n",
    "outfc = \"result.shp\"\n",
    "arcpy.Clip_analysis(infc, clipfc, outfc)\n"
   ]
  },
  {
   "cell_type": "code",
   "execution_count": 38,
   "metadata": {
    "scrolled": false
   },
   "outputs": [
    {
     "name": "stdout",
     "output_type": "stream",
     "text": [
      "Start Time: Monday, October 2, 2023 10:52:06 PM\n",
      "Failed to execute. Parameters are not valid.\n",
      "ERROR 000732: Input Features or Dataset: Dataset streams.shp does not exist or is not supported\n",
      "ERROR 000732: Clip Features: Dataset study.shp does not exist or is not supported\n",
      "Failed to execute (Clip).\n",
      "Failed at Monday, October 2, 2023 10:52:06 PM (Elapsed Time: 0.01 seconds)\n",
      "2\n"
     ]
    }
   ],
   "source": [
    "print(arcpy.GetMessages())\n",
    "print(arcpy.GetMaxSeverity())"
   ]
  },
  {
   "cell_type": "markdown",
   "metadata": {},
   "source": [
    "## Check the license "
   ]
  },
  {
   "cell_type": "code",
   "execution_count": 40,
   "metadata": {},
   "outputs": [
    {
     "name": "stdout",
     "output_type": "stream",
     "text": [
      "ArcInfo\n"
     ]
    }
   ],
   "source": [
    "import arcpy\n",
    "print(arcpy.ProductInfo())"
   ]
  },
  {
   "cell_type": "code",
   "execution_count": 39,
   "metadata": {},
   "outputs": [
    {
     "data": {
      "text/plain": [
       "'AlreadyInitialized'"
      ]
     },
     "execution_count": 39,
     "metadata": {},
     "output_type": "execute_result"
    }
   ],
   "source": [
    "arcpy.CheckProduct(\"arcinfo\")"
   ]
  },
  {
   "cell_type": "code",
   "execution_count": 41,
   "metadata": {},
   "outputs": [
    {
     "data": {
      "text/plain": [
       "'Available'"
      ]
     },
     "execution_count": 41,
     "metadata": {},
     "output_type": "execute_result"
    }
   ],
   "source": [
    "import arcpy\n",
    "arcpy.CheckExtension(\"spatial\")"
   ]
  },
  {
   "cell_type": "code",
   "execution_count": 42,
   "metadata": {
    "scrolled": true
   },
   "outputs": [
    {
     "ename": "ExecuteError",
     "evalue": "Failed to execute. Parameters are not valid.\nERROR 000865: Input raster: dem does not exist.\nERROR 000864: Output measurement: The input is not within the defined domain.\r\nERROR 000800: The value is not a member of DEGREE | PERCENT_RISE.\nFailed to execute (Slope).\n",
     "output_type": "error",
     "traceback": [
      "\u001b[0;31m---------------------------------------------------------------------------\u001b[0m\n\u001b[0;31mExecuteError\u001b[0m                              Traceback (most recent call last)",
      "In  \u001b[0;34m[42]\u001b[0m:\nLine \u001b[0;34m5\u001b[0m:     arcpy.Slope_3d(\u001b[33m\"\u001b[39;49;00m\u001b[33mdem\u001b[39;49;00m\u001b[33m\"\u001b[39;49;00m, \u001b[33m\"\u001b[39;49;00m\u001b[33mslope\u001b[39;49;00m\u001b[33m\"\u001b[39;49;00m, \u001b[33m\"\u001b[39;49;00m\u001b[33mDEGREES\u001b[39;49;00m\u001b[33m\"\u001b[39;49;00m)\n",
      "File \u001b[0;34mC:\\Program Files\\ArcGIS\\Pro\\Resources\\ArcPy\\arcpy\\ddd.py\u001b[0m, in \u001b[0;32mSlope\u001b[0m:\nLine \u001b[0;34m5890\u001b[0m:  \u001b[34mraise\u001b[39;49;00m e\n",
      "File \u001b[0;34mC:\\Program Files\\ArcGIS\\Pro\\Resources\\ArcPy\\arcpy\\ddd.py\u001b[0m, in \u001b[0;32mSlope\u001b[0m:\nLine \u001b[0;34m5887\u001b[0m:  retval = convertArcObjectToPythonObject(gp.Slope_3d(*gp_fixargs((in_raster, out_raster, output_measurement, z_factor, method, z_unit, analysis_target_device), \u001b[34mTrue\u001b[39;49;00m)))\n",
      "File \u001b[0;34mC:\\Program Files\\ArcGIS\\Pro\\Resources\\ArcPy\\arcpy\\geoprocessing\\_base.py\u001b[0m, in \u001b[0;32m<lambda>\u001b[0m:\nLine \u001b[0;34m512\u001b[0m:   \u001b[34mreturn\u001b[39;49;00m \u001b[34mlambda\u001b[39;49;00m *args: val(*gp_fixargs(args, \u001b[34mTrue\u001b[39;49;00m))\n",
      "\u001b[0;31mExecuteError\u001b[0m: Failed to execute. Parameters are not valid.\nERROR 000865: Input raster: dem does not exist.\nERROR 000864: Output measurement: The input is not within the defined domain.\r\nERROR 000800: The value is not a member of DEGREE | PERCENT_RISE.\nFailed to execute (Slope).\n\n\u001b[0;31m---------------------------------------------------------------------------\u001b[0m"
     ]
    }
   ],
   "source": [
    "import arcpy\n",
    "arcpy.env.workspace = \"C:/Data\"\n",
    "if arcpy.CheckExtension(\"3D\") == \"Available\":\n",
    "    arcpy.CheckOutExtension(\"3D\")\n",
    "    arcpy.Slope_3d(\"dem\", \"slope\", \"DEGREES\")\n",
    "    arcpy.CheckInExtension(\"3D\")\n",
    "else:\n",
    "    print(\"3D Analyst license is unavailable.\")"
   ]
  },
  {
   "cell_type": "markdown",
   "metadata": {},
   "source": [
    "## Work with spatial reference"
   ]
  },
  {
   "cell_type": "code",
   "execution_count": 45,
   "metadata": {},
   "outputs": [
    {
     "name": "stdout",
     "output_type": "stream",
     "text": [
      "NTF_Lambert_II\n"
     ]
    }
   ],
   "source": [
    "import arcpy\n",
    "prjfile = r\"C:\\Users\\leiwang\\Documents\\ArcGIS\\Projects\\GEOG4057\\data\\assignment4\\ParisData\\Metro_Entrances.prj\"\n",
    "spatialref = arcpy.SpatialReference(prjfile)\n",
    "print(spatialref.name)"
   ]
  },
  {
   "cell_type": "code",
   "execution_count": 47,
   "metadata": {},
   "outputs": [
    {
     "name": "stdout",
     "output_type": "stream",
     "text": [
      "NAD_1983_StatePlane_Vermont_FIPS_4400\n"
     ]
    }
   ],
   "source": [
    "spatialref = arcpy.SpatialReference(32145)\n",
    "print(spatialref.name)"
   ]
  },
  {
   "cell_type": "code",
   "execution_count": 50,
   "metadata": {},
   "outputs": [
    {
     "name": "stdout",
     "output_type": "stream",
     "text": [
      "GCS_WGS_1984\n"
     ]
    }
   ],
   "source": [
    "# String below is the WKT for the \n",
    "# Geographic Coordinate system \"WGS 1984\" (factory code=4326)\n",
    "wkt = \"GEOGCS['GCS_WGS_1984',DATUM['D_WGS_1984',SPHEROID['WGS_1984',6378137.0,298.257223563]],\\\n",
    "              PRIMEM['Greenwich',0.0],UNIT['Degree',0.0174532925199433]];\\\n",
    "              -400 -400 1000000000;-100000 10000;-100000 10000;8.98315284119522E-09;\\\n",
    "              0.001;0.001;IsHighPrecision\"\n",
    "\n",
    "sr = arcpy.SpatialReference(text=wkt)\n",
    "print(sr.name)"
   ]
  },
  {
   "cell_type": "code",
   "execution_count": 51,
   "metadata": {
    "scrolled": true
   },
   "outputs": [
    {
     "name": "stdout",
     "output_type": "stream",
     "text": [
      "CentralRegion : GCS_WGS_1984\n",
      "MidAtlanticRegion : GCS_WGS_1984\n",
      "MidSouthRegion : GCS_WGS_1984\n",
      "MidWestRegion : GCS_WGS_1984\n",
      "NorthEastRegion : GCS_WGS_1984\n",
      "PacificWestRegion : GCS_WGS_1984\n",
      "SouthEastRegion : GCS_WGS_1984\n",
      "WestRegion : GCS_WGS_1984\n",
      "Metro_Entrances_Project : Europe_Albers_Equal_Area_Conic\n",
      "Warehouses_Project : Europe_Albers_Equal_Area_Conic\n",
      "Stores_Project : Europe_Albers_Equal_Area_Conic\n",
      "Parks_Project : Europe_Albers_Equal_Area_Conic\n",
      "Metro_Lines_Project : Europe_Albers_Equal_Area_Conic\n",
      "Metro_LinesAOI_Project : Europe_Albers_Equal_Area_Conic\n",
      "Metro_Stations_Project : Europe_Albers_Equal_Area_Conic\n",
      "Streets_Project : Europe_Albers_Equal_Area_Conic\n",
      "OutputValuesParks_Pro_Buffer : Europe_Albers_Equal_Area_Conic\n",
      "Buffer1 : Europe_Albers_Equal_Area_Conic\n",
      "BufferedFC_500 : NAD_1983_StatePlane_California_VI_FIPS_0406_Feet\n",
      "ClippedFC_500 : NAD_1983_StatePlane_California_VI_FIPS_0406_Feet\n",
      "BufferedFC_1000 : NAD_1983_StatePlane_California_VI_FIPS_0406_Feet\n",
      "ClippedFC_1000 : NAD_1983_StatePlane_California_VI_FIPS_0406_Feet\n",
      "ClippedFC_1500 : NAD_1983_StatePlane_California_VI_FIPS_0406_Feet\n"
     ]
    }
   ],
   "source": [
    "import arcpy\n",
    "\n",
    "# Set the workspace environment\n",
    "arcpy.env.workspace = \"GEOG4057.gdb\"\n",
    "\n",
    "# Get a list of the feature classes in the input folder\n",
    "feature_classes = arcpy.ListFeatureClasses()\n",
    "\n",
    "# Loop through the list\n",
    "for fc in feature_classes:\n",
    "    # Create the spatial reference object\n",
    "    spatial_ref = arcpy.Describe(fc).spatialReference\n",
    "\n",
    "    # If the spatial reference is unknown\n",
    "    if spatial_ref.name == \"Unknown\":\n",
    "        print(\"{} has an unknown spatial reference\".format(fc))\n",
    "\n",
    "    # Otherwise, print out the feature class name and spatial reference\n",
    "    else:\n",
    "        print(\"{} : {}\".format(fc, spatial_ref.name))"
   ]
  },
  {
   "cell_type": "code",
   "execution_count": 57,
   "metadata": {},
   "outputs": [
    {
     "name": "stdout",
     "output_type": "stream",
     "text": [
      "World_Sinusoidal\n"
     ]
    }
   ],
   "source": [
    "sr = arcpy.SpatialReference(\"Sinusoidal (World)\")\n",
    "print(sr.name)"
   ]
  },
  {
   "cell_type": "code",
   "execution_count": 52,
   "metadata": {
    "scrolled": true
   },
   "outputs": [
    {
     "name": "stdout",
     "output_type": "stream",
     "text": [
      "Hawaii_Albers_Equal_Area_Conic\n"
     ]
    }
   ],
   "source": [
    "import arcpy\n",
    "sr = arcpy.SpatialReference(\"Hawaii Albers Equal Area Conic\")\n",
    "print(sr.name)"
   ]
  },
  {
   "cell_type": "code",
   "execution_count": 53,
   "metadata": {},
   "outputs": [
    {
     "ename": "RuntimeError",
     "evalue": "SpatialReference: Error in CreateFromFile",
     "output_type": "error",
     "traceback": [
      "\u001b[0;31m---------------------------------------------------------------------------\u001b[0m\n\u001b[0;31mRuntimeError\u001b[0m                              Traceback (most recent call last)",
      "In  \u001b[0;34m[53]\u001b[0m:\nLine \u001b[0;34m2\u001b[0m:     sr = arcpy.SpatialReference(\u001b[33m\"\u001b[39;49;00m\u001b[33mUTM Zone 10N NAD1983\u001b[39;49;00m\u001b[33m\"\u001b[39;49;00m)\n",
      "File \u001b[0;34mC:\\Program Files\\ArcGIS\\Pro\\Resources\\ArcPy\\arcpy\\arcobjects\\mixins.py\u001b[0m, in \u001b[0;32m__init__\u001b[0m:\nLine \u001b[0;34m942\u001b[0m:   \u001b[36mself\u001b[39;49;00m._arc_object.createFromFile(item, vcs)\n",
      "\u001b[0;31mRuntimeError\u001b[0m: SpatialReference: Error in CreateFromFile\n\u001b[0;31m---------------------------------------------------------------------------\u001b[0m"
     ]
    }
   ],
   "source": [
    "import arcpy\n",
    "sr = arcpy.SpatialReference(\"UTM Zone 10N NAD1983\")\n",
    "print(sr.name)"
   ]
  },
  {
   "cell_type": "code",
   "execution_count": 59,
   "metadata": {},
   "outputs": [
    {
     "name": "stdout",
     "output_type": "stream",
     "text": [
      "Projected Coordinate Systems/Continental/North America/Hawaii Albers Equal Area Conic\n",
      "Projected Coordinate Systems/State Plane/NAD 1983 (Meters)/NAD 1983 StatePlane Hawaii 1 FIPS 5101 (Meters)\n",
      "Projected Coordinate Systems/State Plane/NAD 1983 (Meters)/NAD 1983 StatePlane Hawaii 2 FIPS 5102 (Meters)\n",
      "Projected Coordinate Systems/State Plane/NAD 1983 (Meters)/NAD 1983 StatePlane Hawaii 3 FIPS 5103 (Meters)\n",
      "Projected Coordinate Systems/State Plane/NAD 1983 (Meters)/NAD 1983 StatePlane Hawaii 4 FIPS 5104 (Meters)\n",
      "Projected Coordinate Systems/State Plane/NAD 1983 (Meters)/NAD 1983 StatePlane Hawaii 5 FIPS 5105 (Meters)\n",
      "Projected Coordinate Systems/State Plane/NAD 1983 (PA11) (Meters)/NAD 1983 (PA11) StatePlane Hawaii 1 FIPS 5101 (Meters)\n",
      "Projected Coordinate Systems/State Plane/NAD 1983 (PA11) (Meters)/NAD 1983 (PA11) StatePlane Hawaii 2 FIPS 5102 (Meters)\n",
      "Projected Coordinate Systems/State Plane/NAD 1983 (PA11) (Meters)/NAD 1983 (PA11) StatePlane Hawaii 3 FIPS 5103 (Meters)\n",
      "Projected Coordinate Systems/State Plane/NAD 1983 (PA11) (Meters)/NAD 1983 (PA11) StatePlane Hawaii 4 FIPS 5104 (Meters)\n",
      "Projected Coordinate Systems/State Plane/NAD 1983 (PA11) (Meters)/NAD 1983 (PA11) StatePlane Hawaii 5 FIPS 5105 (Meters)\n",
      "Projected Coordinate Systems/State Plane/NAD 1983 (PA11) (US Feet)/NAD 1983 (PA11) StatePlane Hawaii 1 FIPS 5101 (US Feet)\n",
      "Projected Coordinate Systems/State Plane/NAD 1983 (PA11) (US Feet)/NAD 1983 (PA11) StatePlane Hawaii 2 FIPS 5102 (US Feet)\n",
      "Projected Coordinate Systems/State Plane/NAD 1983 (PA11) (US Feet)/NAD 1983 (PA11) StatePlane Hawaii 3 FIPS 5103 (US Feet)\n",
      "Projected Coordinate Systems/State Plane/NAD 1983 (PA11) (US Feet)/NAD 1983 (PA11) StatePlane Hawaii 4 FIPS 5104 (US Feet)\n",
      "Projected Coordinate Systems/State Plane/NAD 1983 (PA11) (US Feet)/NAD 1983 (PA11) StatePlane Hawaii 5 FIPS 5105 (US Feet)\n",
      "Projected Coordinate Systems/State Plane/NAD 1983 (US Feet)/NAD 1983 StatePlane Hawaii 1 FIPS 5101 (US Feet)\n",
      "Projected Coordinate Systems/State Plane/NAD 1983 (US Feet)/NAD 1983 StatePlane Hawaii 2 FIPS 5102 (US Feet)\n",
      "Projected Coordinate Systems/State Plane/NAD 1983 (US Feet)/NAD 1983 StatePlane Hawaii 3 FIPS 5103 (US Feet)\n",
      "Projected Coordinate Systems/State Plane/NAD 1983 (US Feet)/NAD 1983 StatePlane Hawaii 4 FIPS 5104 (US Feet)\n",
      "Projected Coordinate Systems/State Plane/NAD 1983 (US Feet)/NAD 1983 StatePlane Hawaii 5 FIPS 5105 (US Feet)\n",
      "Projected Coordinate Systems/State Plane/NAD 1983 HARN (Meters)/NAD 1983 HARN StatePlane Hawaii 1 FIPS 5101 (Meters)\n",
      "Projected Coordinate Systems/State Plane/NAD 1983 HARN (Meters)/NAD 1983 HARN StatePlane Hawaii 2 FIPS 5102 (Meters)\n",
      "Projected Coordinate Systems/State Plane/NAD 1983 HARN (Meters)/NAD 1983 HARN StatePlane Hawaii 3 FIPS 5103 (Meters)\n",
      "Projected Coordinate Systems/State Plane/NAD 1983 HARN (Meters)/NAD 1983 HARN StatePlane Hawaii 4 FIPS 5104 (Meters)\n",
      "Projected Coordinate Systems/State Plane/NAD 1983 HARN (Meters)/NAD 1983 HARN StatePlane Hawaii 5 FIPS 5105 (Meters)\n",
      "Projected Coordinate Systems/State Plane/NAD 1983 HARN (US Feet)/NAD 1983 HARN StatePlane Hawaii 1 FIPS 5101 (US Feet)\n",
      "Projected Coordinate Systems/State Plane/NAD 1983 HARN (US Feet)/NAD 1983 HARN StatePlane Hawaii 2 FIPS 5102 (US Feet)\n",
      "Projected Coordinate Systems/State Plane/NAD 1983 HARN (US Feet)/NAD 1983 HARN StatePlane Hawaii 3 FIPS 5103 (US Feet)\n",
      "Projected Coordinate Systems/State Plane/NAD 1983 HARN (US Feet)/NAD 1983 HARN StatePlane Hawaii 4 FIPS 5104 (US Feet)\n",
      "Projected Coordinate Systems/State Plane/NAD 1983 HARN (US Feet)/NAD 1983 HARN StatePlane Hawaii 5 FIPS 5105 (US Feet)\n",
      "Projected Coordinate Systems/State Plane/Other GCS/Old Hawaiian StatePlane Hawaii 1 FIPS 5101 (US Feet)\n",
      "Projected Coordinate Systems/State Plane/Other GCS/Old Hawaiian StatePlane Hawaii 2 FIPS 5102 (US Feet)\n",
      "Projected Coordinate Systems/State Plane/Other GCS/Old Hawaiian StatePlane Hawaii 3 FIPS 5103 (US Feet)\n",
      "Projected Coordinate Systems/State Plane/Other GCS/Old Hawaiian StatePlane Hawaii 4 FIPS 5104 (US Feet)\n",
      "Projected Coordinate Systems/State Plane/Other GCS/Old Hawaiian StatePlane Hawaii 5 FIPS 5105 (US Feet)\n",
      "Projected Coordinate Systems/UTM/Oceans/Pacific Ocean/Old Hawaiian UTM Zone 4N\n",
      "Projected Coordinate Systems/UTM/Oceans/Pacific Ocean/Old Hawaiian UTM Zone 5N\n"
     ]
    }
   ],
   "source": [
    "import arcpy\n",
    "srs_hawaii = arcpy.ListSpatialReferences(\"*Hawaii*\", \"PCS\")\n",
    "for sr in srs_hawaii:\n",
    "    print(sr)"
   ]
  },
  {
   "cell_type": "code",
   "execution_count": 60,
   "metadata": {},
   "outputs": [
    {
     "name": "stdout",
     "output_type": "stream",
     "text": [
      "Projected Coordinate Systems/State Plane/NAD 1983 HARN (US Feet)/NAD 1983 HARN StatePlane Florida North FIPS 0903 (US Feet)\n",
      "Projected Coordinate Systems/State Plane/NAD 1983 NSRS2007 (US Feet)/NAD 1983 NSRS2007 StatePlane Florida North FIPS 0903 (US Feet)\n",
      "Projected Coordinate Systems/State Plane/NAD 1927 (US Feet)/NAD 1927 StatePlane Florida North FIPS 0903\n",
      "Projected Coordinate Systems/State Plane/NAD 1983 (US Feet)/NAD 1983 StatePlane Florida East FIPS 0901 (US Feet)\n",
      "Projected Coordinate Systems/State Plane/NAD 1983 (CORS96) (US Feet)/NAD 1983 (CORS96) StatePlane Florida North FIPS 0903 (US Feet)\n",
      "Projected Coordinate Systems/State Plane/NAD 1983 (CORS96) (US Feet)/NAD 1983 (CORS96) StatePlane Florida West FIPS 0902 (US Feet)\n",
      "Projected Coordinate Systems/State Plane/NAD 1983 (2011) (US Feet)/NAD 1983 (2011) StatePlane Florida North FIPS 0903 (US Feet)\n",
      "Projected Coordinate Systems/State Plane/NAD 1983 HARN (US Feet)/NAD 1983 HARN StatePlane Florida East FIPS 0901 (US Feet)\n",
      "Projected Coordinate Systems/State Plane/NAD 1983 NSRS2007 (US Feet)/NAD 1983 NSRS2007 StatePlane Florida West FIPS 0902 (US Feet)\n",
      "Projected Coordinate Systems/State Plane/NAD 1983 (CORS96) (US Feet)/NAD 1983 (CORS96) StatePlane Florida East FIPS 0901 (US Feet)\n",
      "Projected Coordinate Systems/State Plane/NAD 1983 (2011) (US Feet)/NAD 1983 (2011) StatePlane Florida West FIPS 0902 (US Feet)\n",
      "Projected Coordinate Systems/State Plane/NAD 1983 (US Feet)/NAD 1983 StatePlane Florida West FIPS 0902 (US Feet)\n",
      "Projected Coordinate Systems/State Plane/NAD 1927 (US Feet)/NAD 1927 StatePlane Florida West FIPS 0902\n",
      "Projected Coordinate Systems/State Plane/NAD 1927 (US Feet)/NAD 1927 StatePlane Florida East FIPS 0901\n",
      "Projected Coordinate Systems/State Plane/NAD 1983 NSRS2007 (US Feet)/NAD 1983 NSRS2007 StatePlane Florida East FIPS 0901 (US Feet)\n",
      "Projected Coordinate Systems/State Plane/NAD 1983 HARN (US Feet)/NAD 1983 HARN StatePlane Florida West FIPS 0902 (US Feet)\n",
      "Projected Coordinate Systems/State Plane/NAD 1983 (US Feet)/NAD 1983 StatePlane Florida North FIPS 0903 (US Feet)\n",
      "Projected Coordinate Systems/State Plane/NAD 1983 (2011) (US Feet)/NAD 1983 (2011) StatePlane Florida East FIPS 0901 (US Feet)\n"
     ]
    }
   ],
   "source": [
    "# list all names of sr in Florida that use the state plane coordinate system with the unit of feet\n",
    "import arcpy\n",
    "srs_fl = arcpy.ListSpatialReferences(\"*Florida*\")\n",
    "srs_sp = arcpy.ListSpatialReferences(\"*State Plane*\")\n",
    "srs_ft = arcpy.ListSpatialReferences(\"*Feet*\")\n",
    "srs = set(srs_fl) & set(srs_sp) & set(srs_ft)\n",
    "for sr in srs:\n",
    "    print(sr)"
   ]
  }
 ],
 "metadata": {
  "kernelspec": {
   "display_name": "ArcGISPro",
   "language": "Python",
   "name": "python3"
  },
  "language_info": {
   "file_extension": ".py",
   "name": "python",
   "version": "3"
  }
 },
 "nbformat": 4,
 "nbformat_minor": 2
}

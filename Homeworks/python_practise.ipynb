{
 "cells": [
  {
   "cell_type": "code",
   "execution_count": 1,
   "metadata": {
    "scrolled": true
   },
   "outputs": [
    {
     "name": "stdout",
     "output_type": "stream",
     "text": [
      "3.1.3\n"
     ]
    }
   ],
   "source": [
    "import arcpy\n",
    "print(arcpy.GetInstallInfo()['Version'])"
   ]
  },
  {
   "cell_type": "code",
   "execution_count": 1,
   "metadata": {},
   "outputs": [
    {
     "name": "stdout",
     "output_type": "stream",
     "text": [
      "c:\\Users\\leiwang\\anaconda\\envs\\arcpy_clone\\Library\\bin;C:\\Program Files\\ArcGIS\\Pro\\bin;c:\\Users\\leiwang\\anaconda\\envs\\arcpy_clone;C:\\Users\\leiwang\\anaconda\\envs\\arcpy_clone\\Library\\mingw-w64\\bin;C:\\Users\\leiwang\\anaconda\\envs\\arcpy_clone\\Library\\usr\\bin;C:\\Users\\leiwang\\anaconda\\envs\\arcpy_clone\\Library\\bin;C:\\Users\\leiwang\\anaconda\\envs\\arcpy_clone\\Scripts;C:\\Users\\leiwang\\anaconda\\envs\\arcpy_clone\\bin;C:\\Users\\leiwang\\anaconda\\condabin;C:\\Program Files\\NVIDIA GPU Computing Toolkit\\CUDA\\v12.1\\bin;C:\\Program Files\\NVIDIA GPU Computing Toolkit\\CUDA\\v12.1\\libnvvp;C:\\WINDOWS\\system32;C:\\WINDOWS;C:\\WINDOWS\\System32\\Wbem;C:\\WINDOWS\\System32\\WindowsPowerShell\\v1.0;C:\\WINDOWS\\System32\\OpenSSH;C:\\Program Files (x86)\\NVIDIA Corporation\\PhysX\\Common;C:\\Program Files\\dotnet;C:\\Program Files\\NVIDIA Corporation\\Nsight Compute 2023.1.0;C:\\Program Files\\NVIDIA Corporation\\NVIDIA NvDLISR;C:\\Program Files\\Git\\cmd;C:\\OSGeo4W\\bin;C:\\Program Files (x86)\\AOMEI\\AOMEI Backupper\\7.3.1;C:\\Users\\leiwang\\Downloads\\opencv\\build\\x64\\vc16\\bin;C:\\Users\\leiwang\\AppData\\Local\\Microsoft\\WindowsApps;C:\\Users\\leiwang\\AppData\\Local\\GitHubDesktop\\bin;C:\\Program Files\\snap\\bin;C:\\Users\\leiwang\\AppData\\Local\\Programs\\Microsoft VS Code\\bin;C:\\Users\\leiwang\\.dotnet\\tools;C:\\users\\leiwang\\Anaconda\\Scripts;C:\\Users\\leiwang\\AppData\\Local\\Google\\Cloud SDK\\google-cloud-sdk\\bin;C:\\msys64\\ucrt64\\bin;C:\\Program Files\\CMake\\bin;C:\\Program Files (x86)\\EaseUS\\Todo Backup\\bin\\x64;C:\\Program Files\\ArcGIS\\Pro\\bin\\Python\\Scripts\n"
     ]
    }
   ],
   "source": [
    "import os\n",
    "print(os.getenv('path'))"
   ]
  },
  {
   "cell_type": "code",
   "execution_count": null,
   "metadata": {},
   "outputs": [],
   "source": []
  }
 ],
 "metadata": {
  "kernelspec": {
   "display_name": "Python [conda env:arcpy_clone] *",
   "language": "python",
   "name": "conda-env-arcpy_clone-py"
  },
  "language_info": {
   "codemirror_mode": {
    "name": "ipython",
    "version": 3
   },
   "file_extension": ".py",
   "mimetype": "text/x-python",
   "name": "python",
   "nbconvert_exporter": "python",
   "pygments_lexer": "ipython3",
   "version": "3.9.16"
  }
 },
 "nbformat": 4,
 "nbformat_minor": 2
}

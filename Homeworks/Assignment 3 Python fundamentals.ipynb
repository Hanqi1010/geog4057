{
 "cells": [
  {
   "cell_type": "markdown",
   "metadata": {},
   "source": [
    "# Assignment 3 Python fundamentals"
   ]
  },
  {
   "cell_type": "markdown",
   "metadata": {},
   "source": [
    "## Requirements: \n",
    "- Add this notebook to ArcGIS Pro\n",
    "- for each of following questions, fill the code box with your answer, and run it to get the output\n",
    "- Upload the updated ipynb file as your assignment 3 submission to Moodle"
   ]
  },
  {
   "cell_type": "markdown",
   "metadata": {},
   "source": [
    "### Q1 County name list\n",
    "- Find out the five parishes in Lousiana with the most population\n",
    "- Create a *list* named *counties* with the five county names \n",
    "- print the length of the list\n",
    "- Use a *for loop* to print the county names one by one\n"
   ]
  },
  {
   "cell_type": "markdown",
   "metadata": {},
   "source": [
    "### Q2 County populatoin dictionary\n",
    "- Create a *dictionary* named *county_pop* with the five county names as keys and their populuation as values\n",
    "- print the population of the county that has the largest population using the dict[key] operator (e.g. county_pop['countyname'])\n",
    "- print the population of the county that has the least population\n",
    "- Use a for loop to calculate the total popoulation from the dictionary (hint, for county in county_pop: ... )"
   ]
  },
  {
   "cell_type": "markdown",
   "metadata": {},
   "source": [
    "### Q3 string formatting\n",
    "- Use the county_pop dictionary to print the county names and populations as the following formatted string:\n",
    "county1 has a population of ###\n",
    "county2 has a population of ###\n",
    "...\n",
    "- You can choose to use a for loop or not"
   ]
  },
  {
   "cell_type": "markdown",
   "metadata": {},
   "source": [
    "### Q4 shape file names for each county\n",
    "- Use the counties list as input\n",
    "- For each county, create the string for its shapefile name. For example, county1.shp, county2.shp\n",
    "- You can choose to use a for loop or not \n"
   ]
  },
  {
   "cell_type": "markdown",
   "metadata": {},
   "source": [
    "### Q5 create a full path name for each county\n",
    "- Define a variable called *data_path* and store a string in it as a path name. For example, \"C:/data\"\n",
    "- Use the os.path.join() function to create a full path name for each county. For example, \"C:/data/county1.shp\"\n",
    "- Required: you have to use a for...loop on this question"
   ]
  },
  {
   "cell_type": "markdown",
   "metadata": {},
   "source": [
    "### Q6 Define a function\n",
    "- Define a function called countPopulation\n",
    "- Define the function's docstring using the triple quotes with following content:\n",
    "  <q>Compute the total populatoin of the counties in the dictionary\n",
    "   GEOG 4057 GIS Programming</q>\n",
    "\n",
    "- Complete the fucntion so it can return the value of total population\n",
    "- Call the function from the code block to print the total population"
   ]
  }
 ],
 "metadata": {
  "language_info": {
   "name": "python"
  },
  "orig_nbformat": 4
 },
 "nbformat": 4,
 "nbformat_minor": 2
}

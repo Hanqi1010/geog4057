{
 "cells": [
  {
   "cell_type": "markdown",
   "metadata": {},
   "source": [
    "# Introduction\n",
    " In this assignment, you will do exercises on arcpy.Exists(), arcpy.Walk(), arcpy.da.Describe(), python list comprehension, arcpy.da.SearchCursor, and arcpy.da.InsertCursor(). In each section, a code block is provided but not ready to run. You need to add this notebook to ArcGIS Pro, modify each block to make it runable, keep the output message , and write an explanation of the code block. \n",
    "\n",
    " Data preparation: \n",
    " Use the same zip file from assignment 4 for this exercise. The zip file contains a geodatabase and a folder with shapefles. Download the data from the [data](../data) folder of the github website. Extract the zip file and use the geodatabase and the folder containing the shapefiles accordingly.  "
   ]
  },
  {
   "cell_type": "markdown",
   "metadata": {},
   "source": [
    "## Read a text file for data and write them into a feature class using InsertCursor\n",
    "\n",
    "- Use the points.csv file in the same folder of the notebook \n",
    "- The code block can read the csv file and write its contents to a feature class\n",
    "- The spatial reference of the feature class is defined as GCS WGS84 (code 4326) according to the coordinates in the csv file"
   ]
  },
  {
   "cell_type": "code",
   "execution_count": null,
   "metadata": {},
   "outputs": [],
   "source": [
    "import arcpy\n",
    "import csv\n",
    "\n",
    "# Prompt for user input\n",
    "csv_file_path = \"Enter the path to the CSV file: \"\n",
    "geodatabase_path = \"Enter the path to the geodatabase: \"\n",
    "feature_class_name = \"Enter the name of the new feature class: \"\n",
    "\n",
    "# Determine the number of fields and field names from the CSV header\n",
    "with open(csv_file_path, 'r') as csv_file:\n",
    "    csv_reader = csv.reader(csv_file)\n",
    "    header = next(csv_reader)\n",
    "    num_fields = len(header)\n",
    "\n",
    "# Create a new point feature class\n",
    "sr = arcpy.SpatialReference(4326)  # You can specify the appropriate spatial reference\n",
    "arcpy.CreateFeatureclass_management(geodatabase_path, feature_class_name, \"POINT\", spatial_reference=sr)\n",
    "\n",
    "# Add fields to the feature class based on the CSV header\n",
    "field_info = arcpy.ListFields(geodatabase_path + \"/\" + feature_class_name)\n",
    "field_names = [field.name for field in field_info]\n",
    "for field in header:\n",
    "    if field not in field_names:\n",
    "        arcpy.AddField_management(geodatabase_path + \"/\" + feature_class_name, field, \"DOUBLE\")\n",
    "\n",
    "# Create a cursor for inserting point features with additional fields\n",
    "cursor_fields = [\"SHAPE@X\", \"SHAPE@Y\"] + header\n",
    "with arcpy.da.InsertCursor(geodatabase_path + \"/\" + feature_class_name, cursor_fields) as cursor:\n",
    "    # Read data from the CSV file and create point features with attributes\n",
    "    with open(csv_file_path, 'r') as csv_file:\n",
    "        csv_reader = csv.reader(csv_file)\n",
    "        \n",
    "        # Skip the header row (if present)\n",
    "        next(csv_reader, None)\n",
    "        \n",
    "        for row in csv_reader:\n",
    "            x = float(row[0])\n",
    "            y = float(row[1])\n",
    "            additional_fields = row\n",
    "            cursor.insertRow((x, y) + tuple(additional_fields))\n",
    "\n",
    "print(f\"New point feature class '{feature_class_name}' created in '{geodatabase_path}' with {num_fields} fields.\")\n",
    "\n"
   ]
  },
  {
   "cell_type": "markdown",
   "metadata": {},
   "source": [
    "## Use arcpy.Exist()\n",
    "\n",
    "- Write a Python script that checks the existence of a specified dataset within an ArcGIS workspace.\n",
    "- Prompt the user for input (e.g., dataset name and workspace path).\n",
    "- Use arcpy.Exists() to check if the dataset exists.\n",
    "- Print a message indicating whether the dataset exists or not."
   ]
  },
  {
   "cell_type": "code",
   "execution_count": null,
   "metadata": {},
   "outputs": [],
   "source": [
    "import arcpy\n",
    "import os\n",
    "\n",
    "# Prompt for user input\n",
    "dataset_name = \"Enter the dataset name: \"\n",
    "workspace_path = \"Enter the workspace path: \"\n",
    "fullname = os.path.join(workspace_path,dataset_name)\n",
    "# Check if the dataset exists\n",
    "if arcpy.Exists(fullname):\n",
    "    print(f\"The dataset '{dataset_name}' exists in the workspace.\")\n",
    "else:\n",
    "    print(f\"The dataset '{dataset_name}' does not exist in the workspace.\")"
   ]
  },
  {
   "cell_type": "markdown",
   "metadata": {},
   "source": [
    "**Enter your explanation of the above code block by editing this markdown block**\n",
    "\n"
   ]
  },
  {
   "cell_type": "markdown",
   "metadata": {},
   "source": [
    "## Use arcpy.Walk()\n",
    "- Use arcpy.Walk() to iterate through all feature datasets in a specified geodatabase.\n",
    "- List all the feature classes within each dataset.\n",
    "- Display the results."
   ]
  },
  {
   "cell_type": "code",
   "execution_count": null,
   "metadata": {},
   "outputs": [],
   "source": [
    "import arcpy\n",
    "\n",
    "# Define the workspace\n",
    "workspace = \"C:/path_to_geodatabase.gdb\"\n",
    "\n",
    "# Use arcpy.Walk() to iterate through feature datasets\n",
    "for dirpath, dirnames, filenames in arcpy.da.Walk(workspace, datatype=\"FeatureClass\"):\n",
    "    for filename in filenames:\n",
    "        print(f\"Feature Class in {dirpath}: {filename}\")"
   ]
  },
  {
   "cell_type": "markdown",
   "metadata": {},
   "source": [
    "**Enter your explanation of the above code block by editing this markdown block**\n",
    "\n"
   ]
  },
  {
   "cell_type": "markdown",
   "metadata": {},
   "source": [
    "## Use List Comprehension\n",
    "\n",
    "- Write a script that uses list comprehension to generate a list of .shp files in a specified folder.\n",
    "- Print the list of file names\n"
   ]
  },
  {
   "cell_type": "code",
   "execution_count": null,
   "metadata": {},
   "outputs": [],
   "source": [
    "import os\n",
    "\n",
    "# Specify the folder path\n",
    "folder_path = \"C:/path_to_folder\"\n",
    "\n",
    "# Use list comprehension to generate a list of .shp files\n",
    "shp_files = [file for file in os.listdir(folder_path) if file.endswith(\".shp\")]\n",
    "\n",
    "# Print the list of .shp files\n",
    "print(\"Shapefiles in the folder:\")\n",
    "for shp_file in shp_files:\n",
    "    print(shp_file)"
   ]
  },
  {
   "cell_type": "markdown",
   "metadata": {},
   "source": [
    "## Use arcpy.da.SearchCursor\n",
    "\n",
    "- Build a script that uses arcpy.da.SearchCursor to extract attribute information from a feature class.\n",
    "- Prompt the user for the feature class path and the field(s) to extract.\n",
    "- Use arcpy.da.SearchCursor to extract the data.\n",
    "- Display the extracted data.\n"
   ]
  },
  {
   "cell_type": "code",
   "execution_count": null,
   "metadata": {},
   "outputs": [],
   "source": [
    "import arcpy\n",
    "\n",
    "# Prompt for user input\n",
    "fc_path = \"Enter the feature class path: \"\n",
    "fields_to_extract = [\"Enter the field(s) to extract (comma-separated): \"]\n",
    "\n",
    "# Use arcpy.da.SearchCursor to extract data\n",
    "with arcpy.da.SearchCursor(fc_path, fields_to_extract) as cursor:\n",
    "    print(\"Extracted Data:\")\n",
    "    for row in cursor:\n",
    "        print([row[i] for i in range(len(fields_to_extract)])"
   ]
  },
  {
   "cell_type": "markdown",
   "metadata": {},
   "source": [
    "## Use addField and field Calculator\n",
    "\n",
    "- Add a new field for which you want to perform the calculation.\n",
    "\n",
    "- Uses the Field Calculator tool in the script with the arcpy.CalculateField_management() method to calculate a new field based on a specified expression. The expression can be a simple calculation, text manipulation, or a more complex conditional expression.\n",
    "\n",
    "- Specifies the expression using Python string formatting and ensures that it follows the field calculator syntax"
   ]
  },
  {
   "cell_type": "code",
   "execution_count": null,
   "metadata": {},
   "outputs": [],
   "source": [
    "import arcpy\n",
    "fc = \"feature class name\"\n",
    "newfieldName = \"newfieldname\"\n",
    "arcpy.AddField_management(fc, newFieldName, \"SHORT\")\n",
    "expression = \"reclass(!Field1!)\"\n",
    "codeblock = \"\"\"\n",
    "def reclass(field):\n",
    "    if (field > 10):\n",
    "        return 1\n",
    "    elif (field > 20):\n",
    "        return 2\n",
    "    else:\n",
    "        return 0\"\"\"\n",
    "arcpy.CalculateField_management(fc, newFieldName, expression, \"\", codeblock)"
   ]
  }
 ],
 "metadata": {
  "kernelspec": {
   "display_name": "arcgispro-py3",
   "language": "python",
   "name": "python3"
  },
  "language_info": {
   "codemirror_mode": {
    "name": "ipython",
    "version": 3
   },
   "file_extension": ".py",
   "mimetype": "text/x-python",
   "name": "python",
   "nbconvert_exporter": "python",
   "pygments_lexer": "ipython3",
   "version": "3.9.18"
  }
 },
 "nbformat": 4,
 "nbformat_minor": 2
}
